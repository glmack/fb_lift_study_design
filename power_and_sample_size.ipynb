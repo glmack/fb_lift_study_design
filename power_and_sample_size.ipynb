{
 "cells": [
  {
   "cell_type": "code",
   "execution_count": 1,
   "metadata": {
    "collapsed": true
   },
   "outputs": [],
   "source": [
    "import numpy as np\n",
    "import scipy.stats as st\n",
    "import scipy.optimize as op\n",
    "\n",
    "import matplotlib\n",
    "import matplotlib.pyplot as plt\n",
    "%matplotlib inline\n",
    "\n",
    "figsize = [3, 2.25]\n",
    "alpha = 0.05\n",
    "n_iter = 1000000"
   ]
  },
  {
   "cell_type": "markdown",
   "metadata": {},
   "source": [
    "### Calculation functions"
   ]
  },
  {
   "cell_type": "code",
   "execution_count": 2,
   "metadata": {
    "collapsed": true
   },
   "outputs": [],
   "source": [
    "def get_lift_dist(reach, true_lift, conv_ctrl, ctrl_scale_factor, n_iter=1000000):\n",
    "    \n",
    "    lam_C_c = conv_ctrl\n",
    "    lam_C_t = ctrl_scale_factor * lam_C_c * (1 + true_lift * reach)\n",
    "\n",
    "    C_t = np.random.poisson(lam_C_t, n_iter)\n",
    "    C_c = np.random.poisson(lam_C_c, n_iter)\n",
    "\n",
    "    R_c = C_c * reach\n",
    "    \n",
    "    L = (C_t - ctrl_scale_factor * C_c) / (ctrl_scale_factor * R_c)\n",
    "    \n",
    "    return L\n",
    "\n",
    "def get_crit_val(reach, conv_ctrl, ctrl_scale_factor, alpha=0.05, n_iter=1000000):\n",
    "    \n",
    "    # Get the distribution of L under H0.  True lift = 0\n",
    "    L = get_lift_dist(reach, 0, conv_ctrl, ctrl_scale_factor, n_iter)\n",
    "    \n",
    "    crit_val = np.percentile(L, 100*(1 - alpha))\n",
    "    \n",
    "    return crit_val\n",
    "\n",
    "def get_lift_study_power(reach, min_lift, conv_ctrl, ctrl_scale_factor, alpha=0.05, n_iter=1000000):\n",
    "    \n",
    "    crit_val = get_crit_val(reach, conv_ctrl, ctrl_scale_factor, alpha, n_iter)\n",
    "    \n",
    "    # Get the distribution of L under H1\n",
    "    L = get_lift_dist(reach, min_lift, conv_ctrl, ctrl_scale_factor, n_iter)\n",
    "    \n",
    "    power = (100 - st.percentileofscore(L, crit_val)) / 100\n",
    "    \n",
    "    return power\n",
    "\n",
    "def lift_study_power_helper(conv_ctrl, *args):\n",
    "    reach, min_lift, alpha, min_power, ctrl_scale_factor, n_iter = args\n",
    "    power = get_lift_study_power(reach, min_lift, conv_ctrl, ctrl_scale_factor, alpha, n_iter)\n",
    "    \n",
    "    return power - min_power\n",
    "\n",
    "def get_min_conv_ctrl(reach, min_lift, ctrl_scale_factor, alpha=0.05, power=0.8, n_iter=1000000):\n",
    "    \n",
    "    a = 100\n",
    "    b = 50e6\n",
    "    xtol = 10\n",
    "    rtol = 0.01\n",
    "    \n",
    "    conv_ctrl = op.bisect(lift_study_power_helper, a, b, \n",
    "                          args=(reach, min_lift, alpha, power, ctrl_scale_factor, n_iter), \n",
    "                          xtol=xtol, rtol=rtol)\n",
    "    \n",
    "    return conv_ctrl\n",
    "\n",
    "def get_lift_diff_power(reach, lift_a, min_lift_uplift, conv_ctrl_a, ctrl_scale_factor, alpha=0.05, n_iter=1000000):\n",
    "    \n",
    "    # Calculate the critical value under H0\n",
    "    L_a = get_lift_dist(reach, lift_a, conv_ctrl_a, ctrl_scale_factor, n_iter)\n",
    "    L_b = get_lift_dist(reach, lift_a, conv_ctrl_a, ctrl_scale_factor, n_iter)\n",
    "    \n",
    "    L_ab = L_b - L_a\n",
    "    \n",
    "    crit_val = np.percentile(L_ab, 100*(1-alpha))\n",
    "    \n",
    "    # Calculate the test power under H1\n",
    "    # NOTE: WE ARE ASSUMING THE CONTROLS IN A AND B HAVE THE SAME CONVERSION RATE WHICH IS NOT THE CASE\n",
    "    # - HOWEVER IT'S THE ONLY ESTIMATE WE HAVE\n",
    "    L_b = get_lift_dist(reach, lift_a + min_lift_uplift, conv_ctrl_a, ctrl_scale_factor, n_iter)\n",
    "    \n",
    "    L_ab = L_b - L_a\n",
    "    \n",
    "    power = (100 - st.percentileofscore(L_ab, crit_val)) / 100\n",
    "    \n",
    "    return power\n",
    "\n",
    "def lift_diff_power_helper(conv_ctrl_a, *args):\n",
    "    reach, lift_a, min_lift_uplift, ctrl_scale_factor, min_power, alpha, n_iter = args\n",
    "    power = get_lift_diff_power(reach, lift_a, min_lift_uplift, conv_ctrl_a, ctrl_scale_factor, alpha, n_iter)\n",
    "    \n",
    "    return power - min_power\n",
    "\n",
    "def get_min_conv_ctrl_a(reach, lift_a, min_lift_uplift, ctrl_scale_factor, alpha=0.05, power=0.8, n_iter=1000000):\n",
    "    \n",
    "    a = 100\n",
    "    b = 50e8\n",
    "    xtol = 10\n",
    "    rtol = 0.01\n",
    "    \n",
    "    conv_ctrl_a = op.bisect(lift_diff_power_helper, a, b, \n",
    "                          args=(reach, lift_a, min_lift_uplift, ctrl_scale_factor, power, alpha, n_iter), \n",
    "                          xtol=xtol, rtol=rtol)\n",
    "    \n",
    "    return conv_ctrl_a"
   ]
  },
  {
   "cell_type": "markdown",
   "metadata": {},
   "source": [
    "### Plotting functions"
   ]
  },
  {
   "cell_type": "code",
   "execution_count": 3,
   "metadata": {
    "collapsed": true
   },
   "outputs": [],
   "source": [
    "########################\n",
    "# Single cell lift study\n",
    "\n",
    "def plot_power_by_sample_size(ax, reach, min_lifts, convs_ctrl, ctrl_scale_factor, alpha=0.05, n_iter=1000000):\n",
    "    \n",
    "    for min_lift in min_lifts:\n",
    "        powers = []\n",
    "        for conv in convs_ctrl:\n",
    "            powers.append(100 * get_lift_study_power(reach, min_lift, conv, ctrl_scale_factor, alpha, n_iter))\n",
    "\n",
    "        ax.plot(convs_ctrl, powers, label='{:.0f}%'.format(100 * min_lift))\n",
    "\n",
    "    ax.set_xlim([0,max(convs_ctrl)])\n",
    "    ax.set_ylim([0, 100])\n",
    "    ax.get_xaxis().set_major_formatter(matplotlib.ticker.FuncFormatter(lambda x, p: thousands_tick_formatter(x, p)))\n",
    "    ax.set_xlabel('Conversions in control')\n",
    "    ax.set_ylabel('Power (%)')\n",
    "    ax.legend(loc='lower right', title='$L_m$')\n",
    "    \n",
    "def plot_power_by_reach(ax, reaches, min_lifts, conv_ctrl, ctrl_scale_factor, alpha=0.05, n_iter=1000000):\n",
    "    \"\"\"Vary the reach holding the total audience size constant\"\"\"\n",
    "    \n",
    "    for min_lift in min_lifts:\n",
    "        powers = []\n",
    "        for reach in reaches:\n",
    "            powers.append(100 * get_lift_study_power(reach, min_lift, conv_ctrl, ctrl_scale_factor, \n",
    "                                                     alpha, n_iter))\n",
    "\n",
    "        ax.plot(100 * reaches, powers, label='{:.0f}%'.format(100 * min_lift))\n",
    "\n",
    "    ax.set_xlim([0,100])\n",
    "    ax.set_ylim([0, 100])\n",
    "    ax.set_xlabel('Reach (%)')\n",
    "    ax.set_ylabel('Power (%)')\n",
    "    #ax.legend(loc='upper right', title='$L_m$')\n",
    "    \n",
    "def plot_power_by_ctrl_scale_factor(ax, reach, min_lifts, conv_ctrl_at_50, ctrl_splits, \n",
    "                                    alpha=0.05, n_iter=1000000):\n",
    "    \"\"\"Vary the fraction of audience in the control group\"\"\"\n",
    "    \n",
    "    for min_lift in min_lifts:\n",
    "        powers = []\n",
    "        for split in ctrl_splits:\n",
    "            s = (1 - split) / split\n",
    "            conv = split * conv_ctrl_at_50 / 0.5\n",
    "            powers.append(100 * get_lift_study_power(reach, min_lift, conv, s, \n",
    "                                                     alpha, n_iter))\n",
    "\n",
    "        ax.plot(ctrl_splits, powers, label='{:.0f}%'.format(100 * min_lift))\n",
    "\n",
    "    ax.set_xlim([0,1])\n",
    "    ax.set_ylim([0, 100])\n",
    "    ax.set_xlabel('Fraction of audience in control group')\n",
    "    ax.set_ylabel('Power (%)')\n",
    "    #ax.legend(loc='upper right', title='$L_m$')\n",
    "\n",
    "#######################\n",
    "# Multi-cell lift study\n",
    "\n",
    "def plot_power_by_sample_size_mc(ax, reach, lift_a, min_lift_uplifts, convs_ctrl_a, ctrl_scale_factor, \n",
    "                                 alpha=0.05, n_iter=1000000):\n",
    "    \n",
    "    for min_lift_uplift in min_lift_uplifts:\n",
    "        powers = []\n",
    "        for conv in convs_ctrl_a:\n",
    "            powers.append(100 * get_lift_diff_power(reach, lift_a, min_lift_uplift, conv, ctrl_scale_factor, \n",
    "                                                    alpha, n_iter))\n",
    "            \n",
    "\n",
    "        ax.plot(convs_ctrl_a, powers, label='{:.0f}%'.format(100 * min_lift_uplift))\n",
    "\n",
    "    ax.set_xlim([0,max(convs_ctrl_a)])\n",
    "    ax.set_ylim([0, 100])\n",
    "    ax.get_xaxis().set_major_formatter(matplotlib.ticker.FuncFormatter(lambda x, p: thousands_tick_formatter(x, p)))\n",
    "    ax.set_xlabel('Conversions in cell $A$ control')\n",
    "    ax.set_ylabel('Power (%)')\n",
    "    ax.legend(loc='lower right', title='$D_m$')\n",
    "    \n",
    "def thousands_tick_formatter(x, p):\n",
    "    if x >= 1000:\n",
    "        x = str(int(x / 1000)) + 'k'\n",
    "    else:\n",
    "        x = int(x)\n",
    "    return x"
   ]
  },
  {
   "cell_type": "markdown",
   "metadata": {},
   "source": [
    "## Single cell lift study\n",
    "\n",
    "### Power visualisation"
   ]
  },
  {
   "cell_type": "code",
   "execution_count": 4,
   "metadata": {},
   "outputs": [
    {
     "data": {
      "image/png": "[encoded data removed]",
      "text/plain": [
       "<matplotlib.figure.Figure at 0x121faa898>"
      ]
     },
     "metadata": {},
     "output_type": "display_data"
    }
   ],
   "source": [
    "reach = 1\n",
    "true_lift = 0.05\n",
    "conv_ctrl = 20000\n",
    "split = 0.5\n",
    "ctrl_scale_factor = (1 - split) / split\n",
    "\n",
    "h0_dist = get_lift_dist(reach, 0, conv_ctrl, ctrl_scale_factor)\n",
    "h1_dist = get_lift_dist(reach, true_lift, conv_ctrl, ctrl_scale_factor)\n",
    "\n",
    "crit_val = get_crit_val(reach, conv_ctrl, ctrl_scale_factor, alpha=alpha)\n",
    "\n",
    "power = (100 - st.percentileofscore(h1_dist, crit_val)) / 100\n",
    "\n",
    "fig = plt.figure(figsize=figsize)\n",
    "ax = fig.gca()\n",
    "\n",
    "ax.hist(h0_dist, bins=100, label='$\\mathrm{H_0}$', alpha=0.5)\n",
    "ax.hist(h1_dist, bins=100, label='$\\mathrm{H_1}$', alpha=0.5)\n",
    "plt.axvline(crit_val, color='r', ls='--')\n",
    "ax.set_xlim([-0.1,0.1])\n",
    "plt.draw()\n",
    "\n",
    "xlabels = [x.get_text() for x in ax.get_xticklabels()]\n",
    "xlocs = list(ax.get_xticks())\n",
    "\n",
    "xlabels.append(r'$c$')\n",
    "xlocs.append(crit_val)\n",
    "\n",
    "ax.set_xticklabels(xlabels)\n",
    "ax.set_xticks(xlocs)\n",
    "ax.get_yaxis().set_major_formatter(matplotlib.ticker.FuncFormatter(lambda x, p: thousands_tick_formatter(x, p)))\n",
    "ax.legend()\n",
    "ax.set_xlabel('Lift')\n",
    "ax.set_ylabel('Frequency density')\n",
    "\n",
    "plt.savefig('img/single_cell_dist.pdf', bbox_inches='tight');"
   ]
  },
  {
   "cell_type": "code",
   "execution_count": 5,
   "metadata": {},
   "outputs": [
    {
     "data": {
      "text/plain": [
       "0.999455"
      ]
     },
     "execution_count": 5,
     "metadata": {},
     "output_type": "execute_result"
    }
   ],
   "source": [
    "power"
   ]
  },
  {
   "cell_type": "markdown",
   "metadata": {},
   "source": [
    "### Power vs audience size"
   ]
  },
  {
   "cell_type": "code",
   "execution_count": 6,
   "metadata": {},
   "outputs": [
    {
     "data": {
      "image/png": "[encoded data removed]",
      "text/plain": [
       "<matplotlib.figure.Figure at 0x1216915c0>"
      ]
     },
     "metadata": {},
     "output_type": "display_data"
    }
   ],
   "source": [
    "reach = 1\n",
    "min_lifts = [0.01, 0.02, 0.05, 0.1]\n",
    "convs_ctrl = np.linspace(100, 100000, 100)\n",
    "ctrl_scale_factor = 1\n",
    "\n",
    "fig = plt.figure(figsize=figsize)\n",
    "ax = fig.gca()\n",
    "\n",
    "plot_power_by_sample_size(ax, reach, min_lifts, convs_ctrl, ctrl_scale_factor, alpha, n_iter)\n",
    "\n",
    "plt.savefig('img/single_cell_power_vs_conv.pdf', bbox_inches='tight')"
   ]
  },
  {
   "cell_type": "markdown",
   "metadata": {},
   "source": [
    "### Power vs reach"
   ]
  },
  {
   "cell_type": "code",
   "execution_count": 7,
   "metadata": {
    "scrolled": false
   },
   "outputs": [
    {
     "data": {
      "image/png": "[encoded data removed]",
      "text/plain": [
       "<matplotlib.figure.Figure at 0x121890828>"
      ]
     },
     "metadata": {},
     "output_type": "display_data"
    }
   ],
   "source": [
    "reaches = np.linspace(0.001, 1, 100)\n",
    "min_lifts = [0.01, 0.02, 0.05, 0.1]\n",
    "conv_ctrl = 20000\n",
    "ctrl_scale_factor = 1\n",
    "\n",
    "fig = plt.figure(figsize=figsize)\n",
    "ax = fig.gca()\n",
    "\n",
    "plot_power_by_reach(ax, reaches, min_lifts, conv_ctrl, ctrl_scale_factor, alpha, n_iter)\n",
    "\n",
    "plt.savefig('img/single_cell_power_vs_reach.pdf', bbox_inches='tight')"
   ]
  },
  {
   "cell_type": "markdown",
   "metadata": {},
   "source": [
    "### Power vs control/test split"
   ]
  },
  {
   "cell_type": "code",
   "execution_count": 8,
   "metadata": {
    "scrolled": false
   },
   "outputs": [
    {
     "data": {
      "image/png": "[encoded data removed]",
      "text/plain": [
       "<matplotlib.figure.Figure at 0x127e76fd0>"
      ]
     },
     "metadata": {},
     "output_type": "display_data"
    }
   ],
   "source": [
    "reach = 1\n",
    "min_lifts = [0.01, 0.02, 0.05, 0.1]\n",
    "conv_ctrl = 20000\n",
    "ctrl_splits = np.linspace(0.001, 0.999, 100)\n",
    "\n",
    "fig = plt.figure(figsize=figsize)\n",
    "ax = fig.gca()\n",
    "\n",
    "plot_power_by_ctrl_scale_factor(ax, reach, min_lifts, conv_ctrl, ctrl_splits, alpha, n_iter)\n",
    "\n",
    "plt.savefig('img/single_cell_power_vs_split.pdf', bbox_inches='tight')"
   ]
  },
  {
   "cell_type": "markdown",
   "metadata": {},
   "source": [
    "### Minimum sample size"
   ]
  },
  {
   "cell_type": "code",
   "execution_count": 9,
   "metadata": {},
   "outputs": [
    {
     "name": "stdout",
     "output_type": "stream",
     "text": [
      "10%: 1352, 54068\n",
      "5%: 5107, 204271\n",
      "2%: 31190, 1247589\n",
      "1%: 124459, 4978355\n"
     ]
    }
   ],
   "source": [
    "reach = 1\n",
    "ctrl_scale_factor = 1\n",
    "\n",
    "for min_lift in [0.1, 0.05, 0.02, 0.01]:\n",
    "    min_conv_ctrl = get_min_conv_ctrl(reach, min_lift, ctrl_scale_factor)\n",
    "    N = 2 * min_conv_ctrl / 0.05\n",
    "    print('{:.0f}%: {:.0f}, {:.0f}'.format(100 * min_lift, min_conv_ctrl, N))"
   ]
  },
  {
   "cell_type": "markdown",
   "metadata": {},
   "source": [
    "## Multi-cell lift study\n",
    "\n",
    "### Power visualisation"
   ]
  },
  {
   "cell_type": "code",
   "execution_count": 10,
   "metadata": {},
   "outputs": [
    {
     "data": {
      "image/png": "[encoded data removed]",
      "text/plain": [
       "<matplotlib.figure.Figure at 0x12768fe10>"
      ]
     },
     "metadata": {},
     "output_type": "display_data"
    }
   ],
   "source": [
    "reach = 1\n",
    "lift_a = 0.05\n",
    "min_lift_uplift = 0.05 # NOTE: This is the absolute uplift\n",
    "conv_ctrl_a = 10000\n",
    "split = 0.5\n",
    "ctrl_scale_factor = (1 - split) / split\n",
    "\n",
    "L_a = get_lift_dist(reach, lift_a, conv_ctrl_a, ctrl_scale_factor)\n",
    "L_b = get_lift_dist(reach, lift_a, conv_ctrl_a, ctrl_scale_factor)\n",
    "\n",
    "L_ab_h0 = (L_b - L_a)\n",
    "\n",
    "crit_val = np.percentile(L_ab_h0, 100*(1-alpha))\n",
    "\n",
    "# Calculate the test power under H1\n",
    "# NOTE: WE ARE ASSUMING THE CONTROLS IN A AND B HAVE THE SAME CONVERSION RATE WHICH IS NOT THE CASE\n",
    "# - HOWEVER IT'S THE ONLY ESTIMATE WE HAVE\n",
    "L_b = get_lift_dist(reach, lift_a + min_lift_uplift, conv_ctrl_a, ctrl_scale_factor)\n",
    "\n",
    "L_ab_h1 = (L_b - L_a)\n",
    "\n",
    "power = (100 - st.percentileofscore(L_ab_h1, crit_val)) / 100\n",
    "\n",
    "fig = plt.figure(figsize=figsize)\n",
    "ax = fig.gca()\n",
    "\n",
    "ax.hist(L_ab_h0, bins=100, label='$\\mathrm{H_0}$', alpha=0.5)\n",
    "ax.hist(L_ab_h1, bins=100, label='$\\mathrm{H_1}$', alpha=0.5)\n",
    "plt.axvline(crit_val, color='r', ls='--')\n",
    "ax.set_xlim([-0.1,0.1])\n",
    "plt.draw()\n",
    "\n",
    "labels = [x.get_text() for x in ax.get_xticklabels()]\n",
    "locs = list(ax.get_xticks())\n",
    "\n",
    "labels.append(r'$c$')\n",
    "locs.append(crit_val)\n",
    "ax.set_xticklabels(labels)\n",
    "ax.set_xticks(locs)\n",
    "ax.get_yaxis().set_major_formatter(matplotlib.ticker.FuncFormatter(lambda x, p: thousands_tick_formatter(x, p)))\n",
    "ax.legend()\n",
    "ax.set_xlabel('Difference in lift')\n",
    "ax.set_ylabel('Frequency density')\n",
    "\n",
    "plt.savefig('img/multi_cell_dist.pdf', bbox_inches='tight');"
   ]
  },
  {
   "cell_type": "code",
   "execution_count": 11,
   "metadata": {},
   "outputs": [
    {
     "data": {
      "text/plain": [
       "0.773379"
      ]
     },
     "execution_count": 11,
     "metadata": {},
     "output_type": "execute_result"
    }
   ],
   "source": [
    "power"
   ]
  },
  {
   "cell_type": "markdown",
   "metadata": {},
   "source": [
    "### Power vs audience size"
   ]
  },
  {
   "cell_type": "code",
   "execution_count": 12,
   "metadata": {},
   "outputs": [
    {
     "data": {
      "image/png": "[encoded data removed]",
      "text/plain": [
       "<matplotlib.figure.Figure at 0x1216376d8>"
      ]
     },
     "metadata": {},
     "output_type": "display_data"
    }
   ],
   "source": [
    "reach = 1\n",
    "lift_a = 0.05\n",
    "min_lift_uplifts = [0.01, 0.02, 0.05, 0.1]\n",
    "convs_ctrl_a = np.linspace(100, 100000, 100)\n",
    "ctrl_scale_factor = 1\n",
    "\n",
    "fig = plt.figure(figsize=figsize)\n",
    "ax = fig.gca()\n",
    "\n",
    "plot_power_by_sample_size_mc(ax, reach, lift_a, min_lift_uplifts, convs_ctrl_a, ctrl_scale_factor, alpha, n_iter)\n",
    "\n",
    "plt.savefig('img/multi_cell_power_vs_conv.pdf', bbox_inches='tight')"
   ]
  },
  {
   "cell_type": "markdown",
   "metadata": {},
   "source": [
    "### Minimum sample size"
   ]
  },
  {
   "cell_type": "code",
   "execution_count": 13,
   "metadata": {},
   "outputs": [
    {
     "name": "stdout",
     "output_type": "stream",
     "text": [
      "10%: 2745, 219596\n",
      "5%: 10754, 860346\n",
      "2%: 67453, 5396260\n",
      "1%: 264745, 21179569\n"
     ]
    }
   ],
   "source": [
    "reach = 1\n",
    "lift_a = 0.05\n",
    "ctrl_scale_factor = 1\n",
    "\n",
    "for min_lift_uplift in [0.1, 0.05, 0.02, 0.01]:\n",
    "    min_conv_ctrl_a = get_min_conv_ctrl_a(reach, lift_a, min_lift_uplift, ctrl_scale_factor)\n",
    "    N = 4 * min_conv_ctrl_a / 0.05\n",
    "    print('{:.0f}%: {:.0f}, {:.0f}'.format(100 * min_lift_uplift, min_conv_ctrl_a, N))"
   ]
  }
 ],
 "metadata": {
  "kernelspec": {
   "display_name": "Python [conda env:expt_dashboard]",
   "language": "python",
   "name": "conda-env-expt_dashboard-py"
  },
  "language_info": {
   "codemirror_mode": {
    "name": "ipython",
    "version": 3
   },
   "file_extension": ".py",
   "mimetype": "text/x-python",
   "name": "python",
   "nbconvert_exporter": "python",
   "pygments_lexer": "ipython3",
   "version": "3.6.2"
  }
 },
 "nbformat": 4,
 "nbformat_minor": 2
}
